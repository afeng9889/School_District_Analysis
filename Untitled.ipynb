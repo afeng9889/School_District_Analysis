{
 "cells": [
  {
   "cell_type": "code",
   "execution_count": null,
   "metadata": {},
   "outputs": [],
   "source": [
    "thomas_high = student_data_df.loc[student_data_df[\"school_name\"] == \"Thomas High School\"]\n",
    "thomas_high_ninth = thomas_high.loc[thomas_high[\"grade\"] == \"9th\"]\n",
    "thomas_high_ninth.loc[:, 'reading_score'] = \"NaN\"\n",
    "thomas_high_ninth"
   ]
  }
 ],
 "metadata": {
  "kernelspec": {
   "display_name": "Python 3",
   "language": "python",
   "name": "python3"
  },
  "language_info": {
   "codemirror_mode": {
    "name": "ipython",
    "version": 3
   },
   "file_extension": ".py",
   "mimetype": "text/x-python",
   "name": "python",
   "nbconvert_exporter": "python",
   "pygments_lexer": "ipython3",
   "version": "3.7.7"
  }
 },
 "nbformat": 4,
 "nbformat_minor": 4
}
